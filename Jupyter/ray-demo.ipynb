{
 "cells": [
  {
   "cell_type": "markdown",
   "id": "81cdd217-cb73-41e6-acd3-0ab950d3b79e",
   "metadata": {},
   "source": [
    "# Playing with Ray\n",
    "## Step 1: Installing Ray Software\n",
    "... and its dependencies"
   ]
  },
  {
   "cell_type": "code",
   "execution_count": null,
   "id": "92de5710-dd2a-40bf-9ed0-910166e428c7",
   "metadata": {
    "scrolled": true
   },
   "outputs": [],
   "source": [
    "!pip install ray[all]\n",
    "!pip install -U ipywidgets"
   ]
  },
  {
   "cell_type": "markdown",
   "id": "fb49d290-dda0-46aa-b130-7716e244f82b",
   "metadata": {},
   "source": [
    "## Step 2: Using Ray Python API (Ray Core)"
   ]
  },
  {
   "cell_type": "code",
   "execution_count": null,
   "id": "a4e48cbd-b0d3-4a15-a098-64baf9426bf7",
   "metadata": {},
   "outputs": [],
   "source": [
    "import ray"
   ]
  },
  {
   "cell_type": "markdown",
   "id": "9c32c9bf-8c98-448f-929f-558ffdb8fb89",
   "metadata": {},
   "source": [
    "## Step 3: Create or connect to a Ray Cluster\n",
    "Ray.init() is not mandatory, it will be called without argument if not already called, the first time we will use the Ray API.\n",
    "\n",
    "Without argument, Ray.init() *creates* a new Ray Cluster on the local host.\n",
    "\n",
    "But if may be used to connect to an existing Ray cluster or modify the default parameters like we do here below:"
   ]
  },
  {
   "cell_type": "code",
   "execution_count": null,
   "id": "7afd34f3-6d80-4717-ad21-085e0c94294c",
   "metadata": {},
   "outputs": [],
   "source": [
    "def ray_init(local_cluster = True):\n",
    "    if local_cluster:\n",
    "        ray.init(dashboard_host=\"0.0.0.0\", dashboard_port=8265)\n",
    "    else:\n",
    "        ray.init(address=\"ray://node-2.ezmeral.edrusb.org:10015\")"
   ]
  },
  {
   "cell_type": "code",
   "execution_count": null,
   "id": "455edf3c-712c-4fcc-996b-112df5f63541",
   "metadata": {},
   "outputs": [],
   "source": [
    "ray_init(True)"
   ]
  },
  {
   "cell_type": "markdown",
   "id": "2ec986cf-b16e-477c-a8fb-2eb53e7f6d2d",
   "metadata": {},
   "source": [
    "### Let's check the cluster available resources:"
   ]
  },
  {
   "cell_type": "code",
   "execution_count": null,
   "id": "ab23c3ff-4abc-4c03-ba54-c7f718d3ad4e",
   "metadata": {},
   "outputs": [],
   "source": [
    "print(ray.cluster_resources())"
   ]
  },
  {
   "cell_type": "code",
   "execution_count": null,
   "id": "57b5e497-fc41-47c1-9ad3-064086c5b2be",
   "metadata": {},
   "outputs": [],
   "source": [
    "!pip install jq"
   ]
  },
  {
   "cell_type": "code",
   "execution_count": null,
   "id": "072523b6-a781-4da8-8cb6-2d7301d7cfea",
   "metadata": {},
   "outputs": [],
   "source": [
    "import jq\n",
    "\n",
    "print(\"Total CPU = {}\".format(jq.compile(\".CPU\").input_value(ray.cluster_resources()).first()))\n",
    "total_ram = jq.compile(\".memory\").input_value(ray.cluster_resources()).first()\n",
    "print(\"Total RAM = {:.1f} GiB\".format(total_ram/(1024**3)))"
   ]
  },
  {
   "cell_type": "markdown",
   "id": "62a3d0bc-c5f2-466c-b04d-6095b81016ab",
   "metadata": {},
   "source": [
    "### What GPUs do we have available?"
   ]
  },
  {
   "cell_type": "code",
   "execution_count": null,
   "id": "39f96665-c614-414a-b135-4bbc6f53570a",
   "metadata": {},
   "outputs": [],
   "source": [
    "ray.get_gpu_ids()"
   ]
  },
  {
   "cell_type": "markdown",
   "id": "5cd52ad3-d152-4cc9-8ef2-65f6599bd42c",
   "metadata": {
    "jp-MarkdownHeadingCollapsed": true
   },
   "source": [
    "## Step 4: Playing with Ray tasks (aka remote function)\n",
    "Let's create a function that we will \"decorate\" for it runs on the Ray Cluster:"
   ]
  },
  {
   "cell_type": "code",
   "execution_count": null,
   "id": "a4887ca5-3d2d-41bf-97d0-1e3bf661840e",
   "metadata": {},
   "outputs": [],
   "source": [
    "import time"
   ]
  },
  {
   "cell_type": "code",
   "execution_count": null,
   "id": "b07cde45-7593-4c9a-bf2d-e0ffa68c4ea0",
   "metadata": {},
   "outputs": [],
   "source": [
    "@ray.remote(num_cpus=0.25)\n",
    "def my_function(name, x):\n",
    "    print(\"[{}] going to sleep {} seconds\".format(name, x))\n",
    "    time.sleep(x)\n",
    "    print(\"[{}] exiting from sleep after {} seconds\".format(name, x))\n",
    "    return x # returned value"
   ]
  },
  {
   "cell_type": "markdown",
   "id": "aefd27f4-b62b-44cf-8064-a0146354dc47",
   "metadata": {},
   "source": [
    "To invoke the function we have to use the remote() method added by the \"@ray.remote\" decoration and give it in argument the parameters to be passed to this function:"
   ]
  },
  {
   "cell_type": "code",
   "execution_count": null,
   "id": "1ddb2ac3-fa6c-4d75-bc70-dc19137b3437",
   "metadata": {},
   "outputs": [],
   "source": [
    "obj_ref = my_function.remote(\"coucou\", 10)"
   ]
  },
  {
   "cell_type": "markdown",
   "id": "d1d064fd-4d5a-47f5-95ea-d5971e14445b",
   "metadata": {},
   "source": [
    "This call returns right after even before the execution ends (it should take more than 10 seconds)\n",
    "\n",
    "We can get the result (which leads the current thread to synchronize with this function, waiting for it completes if not already done). For that we call the get() method on the Ray object which reference was returned by the previous call:"
   ]
  },
  {
   "cell_type": "code",
   "execution_count": null,
   "id": "fb6f3d4a-d259-4152-a42c-b4d53bf6a897",
   "metadata": {},
   "outputs": [],
   "source": [
    "print(ray.get(obj_ref))"
   ]
  },
  {
   "cell_type": "markdown",
   "id": "9a4adf5d-6ec1-472c-8737-160ca3e50258",
   "metadata": {},
   "source": [
    "Le's see more clearly that calling a function returns much earlier than its execution ends and that we can thus run several \"tasks\" in parallel: From a loop loop we will fire this function ten times:"
   ]
  },
  {
   "cell_type": "code",
   "execution_count": null,
   "id": "53472940-8d8a-4791-bba3-c3082c8273f9",
   "metadata": {},
   "outputs": [],
   "source": [
    "tret=[]\n",
    "num_tasks = 30\n",
    "\n",
    "# let's measure the execution time of what follows:\n",
    "start = time.time()\n",
    "\n",
    "for x in range(0,num_tasks):\n",
    "    tret.append(my_function.remote(x, 10))\n",
    "    \n",
    "if len(tret) != num_tasks:\n",
    "    raise Exception(\"not the expected number of task objects\")\n",
    "\n",
    "step1 = time.time()\n",
    "print(\"launching {} tasks took {} seconds\".format(num_tasks, step1 - start))"
   ]
  },
  {
   "cell_type": "markdown",
   "id": "94d906f2-9050-4d61-ae9c-b2c2962ebdc1",
   "metadata": {},
   "source": [
    "At this time, none of the ten instances has completed, they all run in parallel (assuming there is enough ressources to do so on the cluster, else some a pending for resource to be available)\n"
   ]
  },
  {
   "cell_type": "code",
   "execution_count": null,
   "id": "4113a818-197e-4328-bfc2-18da38dcdd24",
   "metadata": {},
   "outputs": [],
   "source": [
    "print(\"tasks are now launched, starting gather their result\")\n",
    "    \n",
    "for x in range(0,num_tasks):\n",
    "    print(ray.get(tret[x]))\n",
    "\n",
    "end = time.time()\n",
    "print(\"\\nexecution of {} tasks took {} seconds\\n\".format(num_tasks, end - start))"
   ]
  },
  {
   "cell_type": "markdown",
   "id": "120ae90d-be50-4407-af34-a3011760ab97",
   "metadata": {
    "jp-MarkdownHeadingCollapsed": true
   },
   "source": [
    "## Step 5: Ray Actors\n",
    "\n",
    "First creating a helper function to view object status keeping code simple and readable:"
   ]
  },
  {
   "cell_type": "code",
   "execution_count": null,
   "id": "4b3f07fd-111c-4380-8963-b710085b380f",
   "metadata": {},
   "outputs": [],
   "source": [
    "def see_counter_value(tag, value):\n",
    "    print(\"{} counter value is {}\".format(tag, value))\n",
    "    \n",
    "see_counter_value(\"example1\", 199)"
   ]
  },
  {
   "cell_type": "markdown",
   "id": "2794ea62-59d6-45da-a214-97846659a05f",
   "metadata": {},
   "source": [
    "Let's first see class usage without ray, we wrapp this in a function to be able to repeat the same with ray decoration"
   ]
  },
  {
   "cell_type": "code",
   "execution_count": null,
   "id": "4d99bf24-3b44-4a53-9b5f-497be6177568",
   "metadata": {},
   "outputs": [],
   "source": [
    "def without_ray():\n",
    "    '''\n",
    "    wrapping all python class demo in that function to be able to repeat the \n",
    "    same code with ray right after\n",
    "    '''\n",
    "    class Counter:\n",
    "        def __init__(self):\n",
    "            self.value = 0\n",
    "\n",
    "        def increment(self): \n",
    "            self.value += 1\n",
    "            return self.value\n",
    "\n",
    "        def get_counter(self):\n",
    "            return self.value \n",
    "        \n",
    "    object1 = Counter()\n",
    "    see_counter_value(object1.get_counter(), \"before increment\")\n",
    "    object1.increment()\n",
    "    see_counter_value(object1.get_counter(), \"after increment\")\n",
    "\n",
    "without_ray()"
   ]
  },
  {
   "cell_type": "markdown",
   "id": "6ef7676d-9b1c-4a0b-97ff-4e6dce426eb7",
   "metadata": {},
   "source": [
    "Now see **with ray**: \n",
    "\n",
    "very little change is required to create a actor template from this class definition:"
   ]
  },
  {
   "cell_type": "code",
   "execution_count": null,
   "id": "4eb94529-6981-43f1-957e-e03f96c834f1",
   "metadata": {},
   "outputs": [],
   "source": [
    "@ray.remote\n",
    "class Counter:\n",
    "    def __init__(self):\n",
    "        self.value = 0\n",
    "\n",
    "    def increment(self): \n",
    "        self.value += 1\n",
    "        return self.value\n",
    "\n",
    "    def get_counter(self):\n",
    "        return self.value "
   ]
  },
  {
   "cell_type": "code",
   "execution_count": null,
   "id": "91d220fc-8c71-4c8d-ae9e-63297bf12b7b",
   "metadata": {},
   "outputs": [],
   "source": [
    "object1 = Counter.remote()"
   ]
  },
  {
   "cell_type": "code",
   "execution_count": null,
   "id": "4ab529af-d8b1-4dae-a898-557cb2a07b17",
   "metadata": {},
   "outputs": [],
   "source": [
    "for x in range(0,100):\n",
    "  see_counter_value(ray.get(object1.get_counter.remote()), \"before increment\")\n",
    "  object1.increment.remote()\n",
    "  see_counter_value(ray.get(object1.get_counter.remote()), \"after increment\")"
   ]
  },
  {
   "cell_type": "code",
   "execution_count": null,
   "id": "c725e75a-1aab-4c7f-9d7d-e4382fb36abc",
   "metadata": {},
   "outputs": [],
   "source": [
    "del object1"
   ]
  },
  {
   "cell_type": "markdown",
   "id": "7b52df16-e295-474a-9422-d86fc3795d12",
   "metadata": {
    "jp-MarkdownHeadingCollapsed": true
   },
   "source": [
    "## Step 6: Playing with Ray Objects\n",
    "\n",
    "We saw previously that a remote function returns a reference to a Ray object, but we can make Ray objects from anything like here a python list\n",
    "\n",
    "Also note that the reference returned by remote function see above and here below by ray objects are created globally,\n",
    "this is not a good thing as, as long as they live, this will consume ressource on the Ray cluster. Better use anonymous/temporary reference\n",
    "or named reference in a inner level like the body of a function or of a class method...\n",
    "\n",
    "Anyway, for the sake of clarity we continue doing what should not be done in real program."
   ]
  },
  {
   "cell_type": "code",
   "execution_count": null,
   "id": "465760c5-0683-47a6-b21a-cf2da39a2451",
   "metadata": {},
   "outputs": [],
   "source": [
    "my_table = [\"citron\", \"fraise\", \"orange\"]\n",
    "\n",
    "remote_ref = ray.put(my_table)\n",
    "\n",
    "print(ray.get(remote_ref)[1])"
   ]
  },
  {
   "cell_type": "code",
   "execution_count": null,
   "id": "db2a2638-b0f4-4033-8838-b5b4e5bae2b4",
   "metadata": {},
   "outputs": [],
   "source": [
    "my_table.append(\"tomate\")\n",
    "\n",
    "print(my_table)"
   ]
  },
  {
   "cell_type": "markdown",
   "id": "371eab19-a2ba-4aee-911f-ac63088b2131",
   "metadata": {},
   "source": [
    "we modified the python object not the ray object....\n",
    "\n",
    "the ray object is immutable, it cannot change and it thus easy to distribute (copy) where needed on the cluster (data locality):"
   ]
  },
  {
   "cell_type": "code",
   "execution_count": null,
   "id": "1bddc943-474b-452d-9cad-e991902e2aee",
   "metadata": {},
   "outputs": [],
   "source": [
    "ray.get(remote_ref).append(\"tomate\")\n",
    "\n",
    "print(ray.get(remote_ref))"
   ]
  },
  {
   "cell_type": "markdown",
   "id": "94ef1ec5-930a-4f76-a678-ddd3b3fd827e",
   "metadata": {
    "jp-MarkdownHeadingCollapsed": true
   },
   "source": [
    "# Annex: Experimentations"
   ]
  },
  {
   "cell_type": "code",
   "execution_count": null,
   "id": "02b40ad5-2478-4fc6-9dfd-7c3414b42793",
   "metadata": {},
   "outputs": [],
   "source": [
    "@ray.remote(num_cpus=0.5)\n",
    "def heater(inter):\n",
    "    ret = 1\n",
    "    for x in range(0, inter):\n",
    "        if x % 2 == 0:\n",
    "            ret += x*x\n",
    "        else:\n",
    "            ret -= x*x\n",
    "    return ret\n",
    "\n",
    "start = time.time()\n",
    "ret_obj = heater.remote(100000000)\n",
    "ray.get(ret_obj)\n",
    "end = time.time()\n",
    "print(\"\\nexecution of {} tasks took {} seconds\\n\".format(1, end - start))"
   ]
  },
  {
   "cell_type": "code",
   "execution_count": null,
   "id": "f85db3a1-fd0b-445e-ac2f-4252a1a93114",
   "metadata": {},
   "outputs": [],
   "source": [
    "num_threads = 10\n",
    "tret = []\n",
    "\n",
    "for x in range(0,num_threads):\n",
    "  tret.append(heater.remote(100000000+x))\n",
    "for x in range(0,num_threads):\n",
    "  ray.get(tret[x])"
   ]
  },
  {
   "cell_type": "code",
   "execution_count": null,
   "id": "3f813c86-1423-4f21-b347-9551e22217ee",
   "metadata": {},
   "outputs": [],
   "source": [
    "for x in range(0,len(tret)):\n",
    "    ray.cancel(tret[x])"
   ]
  },
  {
   "cell_type": "markdown",
   "id": "8fa0358c-8c88-4fd1-b0f2-3efece4fa340",
   "metadata": {},
   "source": [
    "## Last Step: Shutting down the Ray Cluster\n",
    "shutdown diconnects us from the cluster, but as **ray.init()** also created the cluster, this call will also tear down the cluster that it created."
   ]
  },
  {
   "cell_type": "code",
   "execution_count": null,
   "id": "5f7d3978-d6d3-4468-9fb0-8f3bc5b78d4d",
   "metadata": {},
   "outputs": [],
   "source": [
    "ray.shutdown()"
   ]
  },
  {
   "cell_type": "code",
   "execution_count": null,
   "id": "d232e241-d15b-4e5b-9b11-6a9728af9773",
   "metadata": {},
   "outputs": [],
   "source": [
    "try:\n",
    "    print(ray.cluster_resources())\n",
    "except Exception as err:\n",
    "    print(\"exception caught: {}\".format(err))"
   ]
  },
  {
   "cell_type": "markdown",
   "id": "7140e95d-5c1c-42e9-a274-b23b76321bed",
   "metadata": {},
   "source": [
    "ray.init() has a lot of option, inline help is available as well as more documentation at\n",
    "http://ray.io"
   ]
  },
  {
   "cell_type": "code",
   "execution_count": null,
   "id": "e30a24ca-8dc1-4a80-a579-05f0a6277909",
   "metadata": {},
   "outputs": [],
   "source": [
    "help(ray.init)"
   ]
  },
  {
   "cell_type": "markdown",
   "id": "96dae663-909b-4287-a900-a78fefa916e2",
   "metadata": {
    "jp-MarkdownHeadingCollapsed": true
   },
   "source": [
    "# Modin = pandas on Ray"
   ]
  },
  {
   "cell_type": "code",
   "execution_count": null,
   "id": "bf3305b5-7be5-4514-93a8-4a33bed6f148",
   "metadata": {},
   "outputs": [],
   "source": [
    "! pip install modin"
   ]
  },
  {
   "cell_type": "code",
   "execution_count": null,
   "id": "8cf6b8e0-8359-46b2-83bc-29b94a6abed7",
   "metadata": {},
   "outputs": [],
   "source": [
    "import modin.pandas as pd\n",
    "import ray"
   ]
  },
  {
   "cell_type": "code",
   "execution_count": null,
   "id": "a0e6c246-fe7a-4f2f-9f1e-24dcea234497",
   "metadata": {},
   "outputs": [],
   "source": [
    "ray_init(True)"
   ]
  },
  {
   "cell_type": "code",
   "execution_count": null,
   "id": "9918f116-7351-460d-beba-557775da7eb3",
   "metadata": {},
   "outputs": [],
   "source": [
    "df = pd.read_parquet(\"/home/jovyan/Data/table-adresses-reu.parquet\")"
   ]
  },
  {
   "cell_type": "code",
   "execution_count": null,
   "id": "238fdf58-8da1-4038-aece-14ac38d261bd",
   "metadata": {},
   "outputs": [],
   "source": [
    "df.size"
   ]
  },
  {
   "cell_type": "code",
   "execution_count": null,
   "id": "26d72d44-a250-4444-b3c9-b22c121098cb",
   "metadata": {},
   "outputs": [],
   "source": [
    "df.columns"
   ]
  },
  {
   "cell_type": "code",
   "execution_count": null,
   "id": "74b9d109-95e4-4525-8a42-3034dbe93a68",
   "metadata": {},
   "outputs": [],
   "source": [
    "df.shape"
   ]
  },
  {
   "cell_type": "code",
   "execution_count": null,
   "id": "7b1e02d4-0327-4be1-b47e-b9ad5609f1dc",
   "metadata": {},
   "outputs": [],
   "source": [
    "df.memory_usage"
   ]
  },
  {
   "cell_type": "code",
   "execution_count": null,
   "id": "53d806e1-3772-40eb-9e47-32e4f8eb231c",
   "metadata": {},
   "outputs": [],
   "source": [
    "df.tail(3)"
   ]
  },
  {
   "cell_type": "code",
   "execution_count": null,
   "id": "235860f0-3202-4c96-8823-e0e5392f5add",
   "metadata": {},
   "outputs": [],
   "source": [
    "df.at[1000, 'id_brut_bv_reu']"
   ]
  },
  {
   "cell_type": "code",
   "execution_count": null,
   "id": "49332334-9d72-4747-b76f-b96f6ca434e1",
   "metadata": {},
   "outputs": [],
   "source": [
    "df.loc[3]"
   ]
  },
  {
   "cell_type": "code",
   "execution_count": null,
   "id": "0d41d40c-3316-47aa-9b76-4bd199e5f985",
   "metadata": {},
   "outputs": [],
   "source": [
    "df.plot(x='longitude' , y='latitude' , kind='scatter')"
   ]
  },
  {
   "cell_type": "code",
   "execution_count": null,
   "id": "60f36152-8567-4b76-8816-e057946afac3",
   "metadata": {},
   "outputs": [],
   "source": [
    "del df\n",
    "ray.shutdown()"
   ]
  },
  {
   "cell_type": "markdown",
   "id": "7b1624f5-b2d6-4977-ba33-288158b3c64a",
   "metadata": {},
   "source": [
    "# Ray Serve"
   ]
  },
  {
   "cell_type": "markdown",
   "id": "0579fdd9-0273-4d95-bb9f-5500418e61cb",
   "metadata": {},
   "source": [
    "## Restarting the Ray Cluster"
   ]
  },
  {
   "cell_type": "code",
   "execution_count": null,
   "id": "0112fa0e-6100-4c63-8bed-562c7fda1d2c",
   "metadata": {},
   "outputs": [],
   "source": [
    "ray_init(True)"
   ]
  },
  {
   "cell_type": "markdown",
   "id": "2de2853a-4010-4e37-8d84-2b38e36573f9",
   "metadata": {},
   "source": [
    "## Creating the serving engine (listening on port TCP/8000)"
   ]
  },
  {
   "cell_type": "code",
   "execution_count": null,
   "id": "9f3f7719-c600-4a88-b5c5-91ea7e405766",
   "metadata": {},
   "outputs": [],
   "source": [
    "from ray import serve\n",
    "\n",
    "serve.start(http_options = { 'host':'0.0.0.0', 'port':8000 })"
   ]
  },
  {
   "cell_type": "markdown",
   "id": "a5aa9aa5-7aa8-491d-8852-434bb835a9e3",
   "metadata": {},
   "source": [
    "## Model 1"
   ]
  },
  {
   "cell_type": "code",
   "execution_count": null,
   "id": "0e2f0eac-cf29-4434-b5e1-3f553372b325",
   "metadata": {},
   "outputs": [],
   "source": [
    "!pip install py-spy"
   ]
  },
  {
   "cell_type": "code",
   "execution_count": null,
   "id": "94325a67-2d8d-4327-9197-0769adf1c2cf",
   "metadata": {},
   "outputs": [],
   "source": [
    "import requests\n",
    "from starlette.requests import Request\n",
    "from typing import Dict"
   ]
  },
  {
   "cell_type": "code",
   "execution_count": null,
   "id": "a7f45b1a-934c-435d-817f-c4e4014a6432",
   "metadata": {},
   "outputs": [],
   "source": [
    "# 1: Define a Ray Serve application.\n",
    "@serve.deployment\n",
    "class MyModelDeployment:\n",
    "    def __init__(self, msg_format: str):\n",
    "        # Initialize model state: could be very large neural net weights.\n",
    "        self._format = msg_format\n",
    "\n",
    "    async def __call__(self, request: Request) -> Dict:\n",
    "        first_name: str = await request.json()\n",
    "        return { \"result\": self._format.format(first_name) }"
   ]
  },
  {
   "cell_type": "code",
   "execution_count": null,
   "id": "90c6ce79-c7bd-43d6-b625-5b8ad2e6b2c7",
   "metadata": {},
   "outputs": [],
   "source": [
    "app = MyModelDeployment.bind(\"Salut {} !\")"
   ]
  },
  {
   "cell_type": "code",
   "execution_count": null,
   "id": "98675e53-7055-4135-8adb-df4672b28198",
   "metadata": {},
   "outputs": [],
   "source": [
    "# 2: Deploy the application locally.\n",
    "app_name=\"salutations\""
   ]
  },
  {
   "cell_type": "markdown",
   "id": "03ae7284-777d-40d4-a014-f57b8719c002",
   "metadata": {},
   "source": [
    "### Deploying the application and requesting for predictions"
   ]
  },
  {
   "cell_type": "code",
   "execution_count": null,
   "id": "d8fc8525-71ca-4b9a-ac65-d5f116e60291",
   "metadata": {},
   "outputs": [],
   "source": [
    "serve.run(target=app, name=app_name, route_prefix='/'+app_name)"
   ]
  },
  {
   "cell_type": "markdown",
   "id": "f2e8568f-2843-4dec-8913-298d42345533",
   "metadata": {},
   "source": [
    "### Inference"
   ]
  },
  {
   "cell_type": "code",
   "execution_count": null,
   "id": "77c8febb-bfec-49fd-a8c1-c013550b503b",
   "metadata": {},
   "outputs": [],
   "source": [
    "first_name = input(\"Quel est votre prénom: \")"
   ]
  },
  {
   "cell_type": "code",
   "execution_count": null,
   "id": "18cb9b6d-6df6-4ddf-8cbf-a2c74edf87a2",
   "metadata": {},
   "outputs": [],
   "source": [
    "response = requests.post(\"http://localhost:8000/\"+app_name, json=first_name)"
   ]
  },
  {
   "cell_type": "code",
   "execution_count": null,
   "id": "7146f663-21ad-4054-9e85-2d520f84ab4a",
   "metadata": {},
   "outputs": [],
   "source": [
    "response.text"
   ]
  },
  {
   "cell_type": "markdown",
   "id": "332da6ee-f5f9-4cee-a5ac-6c03d8f0a620",
   "metadata": {},
   "source": [
    "### Undeploying the application"
   ]
  },
  {
   "cell_type": "code",
   "execution_count": null,
   "id": "a190311e-ed46-4df5-907d-0c509db34732",
   "metadata": {},
   "outputs": [],
   "source": [
    "serve.delete(app_name)"
   ]
  },
  {
   "cell_type": "code",
   "execution_count": null,
   "id": "3aa5b089-e2ae-40e8-aef1-1281e6118300",
   "metadata": {},
   "outputs": [],
   "source": [
    "del app"
   ]
  },
  {
   "cell_type": "markdown",
   "id": "8c393915-742d-4f38-894c-117b1b0fff2f",
   "metadata": {},
   "source": [
    "## Model 2"
   ]
  },
  {
   "cell_type": "code",
   "execution_count": null,
   "id": "b4597a3c-9043-4a37-b425-e3617c59c584",
   "metadata": {
    "scrolled": true
   },
   "outputs": [],
   "source": [
    "!pip install torch\n",
    "!pip install transformers"
   ]
  },
  {
   "cell_type": "code",
   "execution_count": null,
   "id": "9af569ff-70d7-42c1-9fc4-3eaa1a35a3ca",
   "metadata": {},
   "outputs": [],
   "source": [
    "from ray import serve\n",
    "import requests\n",
    "from starlette.requests import Request\n",
    "from transformers import pipeline"
   ]
  },
  {
   "cell_type": "code",
   "execution_count": null,
   "id": "e14bdf47-dad5-4c79-a675-74afa791111b",
   "metadata": {},
   "outputs": [],
   "source": [
    "@serve.deployment(num_replicas=1, ray_actor_options={\"num_cpus\": 0.25, \"num_gpus\": 0})\n",
    "class Translator:\n",
    "    def __init__(self):\n",
    "        # Load model\n",
    "        self.model = pipeline(\"translation_en_to_fr\", model=\"t5-small\")\n",
    "\n",
    "    def translate(self, text: str) -> str:\n",
    "        # Run inference\n",
    "        model_output = self.model(text)\n",
    "\n",
    "        # Post-process output to return only the translation text\n",
    "        translation = model_output[0][\"translation_text\"]\n",
    "\n",
    "        return translation\n",
    "        \n",
    "    async def __call__(self, http_request: Request) -> str:\n",
    "        english_text: str = await http_request.json()\n",
    "        return self.translate(english_text)"
   ]
  },
  {
   "cell_type": "code",
   "execution_count": null,
   "id": "25e52d92-f2be-41e7-b0b1-8ce8b4f0d88a",
   "metadata": {},
   "outputs": [],
   "source": [
    "translator_app = Translator.bind()"
   ]
  },
  {
   "cell_type": "code",
   "execution_count": null,
   "id": "ee3a3487-bfde-4a0b-a9b7-967ceebb599c",
   "metadata": {},
   "outputs": [],
   "source": [
    "app2_name=\"translator\""
   ]
  },
  {
   "cell_type": "markdown",
   "id": "c0c46f60-924f-4c6d-b554-87064f1db169",
   "metadata": {},
   "source": [
    "### Deploying the application"
   ]
  },
  {
   "cell_type": "code",
   "execution_count": null,
   "id": "f4a695b5-635e-4a0a-8e09-0e0a114e07d2",
   "metadata": {},
   "outputs": [],
   "source": [
    "serve.run(target=translator_app, name=app2_name, route_prefix='/'+app2_name)"
   ]
  },
  {
   "cell_type": "code",
   "execution_count": null,
   "id": "284608c4-3bd5-4ec2-b862-bec165cadb18",
   "metadata": {},
   "outputs": [],
   "source": [
    "ray.serve.status()"
   ]
  },
  {
   "cell_type": "markdown",
   "id": "8bad115c-f0d9-40fb-a21c-c8ecd73cf91b",
   "metadata": {},
   "source": [
    "### Inference"
   ]
  },
  {
   "cell_type": "code",
   "execution_count": null,
   "id": "de6039c1-867a-4850-b060-7a3b8ca6339f",
   "metadata": {},
   "outputs": [],
   "source": [
    "english_text = \"Success is the ability to go from one failure to another with no loss of enthusiasm.\""
   ]
  },
  {
   "cell_type": "code",
   "execution_count": null,
   "id": "d89e9d2d-f275-4f66-804f-ced7023b30a0",
   "metadata": {},
   "outputs": [],
   "source": [
    "response = requests.post(\"http://127.0.0.1:8000/\"+app2_name, json=english_text)\n",
    "french_text = response.text"
   ]
  },
  {
   "cell_type": "code",
   "execution_count": null,
   "id": "86c5b218-b91b-43c8-8217-cede122a7d3b",
   "metadata": {},
   "outputs": [],
   "source": [
    "print(french_text)"
   ]
  },
  {
   "cell_type": "markdown",
   "id": "a0700e55-1b2e-43b8-97b3-a26ea2529397",
   "metadata": {},
   "source": [
    "### Undeploying application"
   ]
  },
  {
   "cell_type": "code",
   "execution_count": null,
   "id": "0130198b-5352-41e6-a463-c8e9acad73f9",
   "metadata": {},
   "outputs": [],
   "source": [
    "serve.delete(app2_name)"
   ]
  },
  {
   "cell_type": "code",
   "execution_count": null,
   "id": "6fd11247-4ae9-44ff-b2ff-d21b6ca79c53",
   "metadata": {},
   "outputs": [],
   "source": [
    "del translator_app"
   ]
  },
  {
   "cell_type": "markdown",
   "id": "27a334f5-9276-48e9-8dfa-4ed18e803ecb",
   "metadata": {},
   "source": [
    "## Stopping the serving engine"
   ]
  },
  {
   "cell_type": "code",
   "execution_count": null,
   "id": "0975c0f5-539d-4d1a-a156-54e109eb97e1",
   "metadata": {},
   "outputs": [],
   "source": [
    "ray.serve.shutdown()"
   ]
  },
  {
   "cell_type": "markdown",
   "id": "d2840319-ce31-42ac-86ae-e9a8e24c661d",
   "metadata": {},
   "source": [
    "## Stopping the Ray Cluster"
   ]
  },
  {
   "cell_type": "code",
   "execution_count": null,
   "id": "6f45c26e-d714-4353-8e6a-41ac42dc8fd8",
   "metadata": {},
   "outputs": [],
   "source": [
    "ray.shutdown()"
   ]
  },
  {
   "cell_type": "code",
   "execution_count": null,
   "id": "9f277547-b53d-400e-8ef5-d7710385943e",
   "metadata": {},
   "outputs": [],
   "source": []
  }
 ],
 "metadata": {
  "kernelspec": {
   "display_name": "Python 3 (ipykernel)",
   "language": "python",
   "name": "python3"
  },
  "language_info": {
   "codemirror_mode": {
    "name": "ipython",
    "version": 3
   },
   "file_extension": ".py",
   "mimetype": "text/x-python",
   "name": "python",
   "nbconvert_exporter": "python",
   "pygments_lexer": "ipython3",
   "version": "3.9.2"
  }
 },
 "nbformat": 4,
 "nbformat_minor": 5
}
